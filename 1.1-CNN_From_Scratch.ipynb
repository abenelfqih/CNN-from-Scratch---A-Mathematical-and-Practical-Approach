{
  "cells": [
    {
      "cell_type": "markdown",
      "id": "29b5af78-9d5c-4f4b-a88d-5b90ddd883b3",
      "metadata": {
        "id": "29b5af78-9d5c-4f4b-a88d-5b90ddd883b3"
      },
      "source": [
        "# CNN from scratch"
      ]
    },
    {
      "cell_type": "markdown",
      "id": "85823872-de6d-4b7a-baa7-de25cbb909f3",
      "metadata": {
        "id": "85823872-de6d-4b7a-baa7-de25cbb909f3"
      },
      "source": [
        "## Libraries"
      ]
    },
    {
      "cell_type": "code",
      "execution_count": 1,
      "id": "fb694dc0-c85d-4af2-bc5b-b7d61241eefd",
      "metadata": {
        "id": "fb694dc0-c85d-4af2-bc5b-b7d61241eefd"
      },
      "outputs": [],
      "source": [
        "import numpy as np\n",
        "import matplotlib.pyplot as plt #to show img\n",
        "from tensorflow.keras.datasets import mnist #dataset\n",
        "from tqdm import tqdm  # Import tqdm for progress bar"
      ]
    },
    {
      "cell_type": "markdown",
      "id": "7ac95873-c77c-4338-8b2f-3643effed5a6",
      "metadata": {
        "id": "7ac95873-c77c-4338-8b2f-3643effed5a6"
      },
      "source": [
        "## Functions"
      ]
    },
    {
      "cell_type": "code",
      "execution_count": 2,
      "id": "7a04bd63-7481-4cf2-aaa1-9ef272aba6b1",
      "metadata": {
        "id": "7a04bd63-7481-4cf2-aaa1-9ef272aba6b1"
      },
      "outputs": [],
      "source": [
        "def add_padding(input_matrix, padding):\n",
        "    if padding > 0:\n",
        "        padded_matrix = np.pad(input_matrix, pad_width=padding, mode='constant', constant_values=0)\n",
        "        return padded_matrix\n",
        "    else:\n",
        "        return input_matrix\n"
      ]
    },
    {
      "cell_type": "code",
      "execution_count": 3,
      "id": "0b6e16ec-c690-4601-b310-ae0672f5134e",
      "metadata": {
        "id": "0b6e16ec-c690-4601-b310-ae0672f5134e"
      },
      "outputs": [],
      "source": [
        "def convolution(input_matrix, kernel, stride=1, padding=0):\n",
        "    input_matrix = add_padding(input_matrix, padding)\n",
        "    input_height, input_width = input_matrix.shape\n",
        "    kernel_height, kernel_width = kernel.shape\n",
        "\n",
        "    output_height = int((input_height - kernel_height) / stride) + 1\n",
        "    output_width = int((input_width - kernel_width) / stride) + 1\n",
        "\n",
        "    feature_map = np.zeros((output_height, output_width))\n",
        "\n",
        "    for i in range(0, output_height):\n",
        "        for j in range(0, output_width):\n",
        "            start_i = i * stride\n",
        "            start_j = j * stride\n",
        "            end_i = start_i + kernel_height\n",
        "            end_j = start_j + kernel_width\n",
        "\n",
        "            feature_map[i, j] = np.sum(input_matrix[start_i:end_i, start_j:end_j] * kernel)\n",
        "\n",
        "    return feature_map"
      ]
    },
    {
      "cell_type": "code",
      "execution_count": 4,
      "id": "2d209bf6-70fa-4402-987a-f6f537b8d837",
      "metadata": {
        "id": "2d209bf6-70fa-4402-987a-f6f537b8d837"
      },
      "outputs": [],
      "source": [
        "def relu(feature_map):\n",
        "    activated_map = np.maximum(0, feature_map)\n",
        "    return activated_map"
      ]
    },
    {
      "cell_type": "code",
      "execution_count": 5,
      "id": "37d0d725-1acf-4f0e-95df-b4d53f2dcf62",
      "metadata": {
        "id": "37d0d725-1acf-4f0e-95df-b4d53f2dcf62"
      },
      "outputs": [],
      "source": [
        "def pooling(activated_map, pooling_size=2, stride=2):\n",
        "    output_height = (activated_map.shape[0] - pooling_size) // stride + 1\n",
        "    output_width = (activated_map.shape[1] - pooling_size) // stride + 1\n",
        "    pooled_map = np.zeros((output_height, output_width))\n",
        "\n",
        "    for i in range(0, output_height):\n",
        "        for j in range(0, output_width):\n",
        "            start_i = i * stride\n",
        "            start_j = j * stride\n",
        "            end_i = start_i + pooling_size\n",
        "            end_j = start_j + pooling_size\n",
        "\n",
        "            window = activated_map[start_i:end_i, start_j:end_j]\n",
        "            pooled_map[i, j] = np.max(window)\n",
        "\n",
        "    return pooled_map"
      ]
    },
    {
      "cell_type": "code",
      "execution_count": 6,
      "id": "ade115b4-d530-4a70-9017-05a05d20271e",
      "metadata": {
        "id": "ade115b4-d530-4a70-9017-05a05d20271e"
      },
      "outputs": [],
      "source": [
        "def flatten(pooled_map):\n",
        "    pooled_shape = pooled_map.shape\n",
        "\n",
        "    total_elements = pooled_shape[0] * pooled_shape[1]\n",
        "\n",
        "    flattened_vector = np.zeros(total_elements)\n",
        "\n",
        "    index = 0\n",
        "    for i in range(pooled_shape[0]):\n",
        "        for j in range(pooled_shape[1]):\n",
        "            flattened_vector[index] = pooled_map[i, j]\n",
        "            index += 1\n",
        "\n",
        "    return flattened_vector"
      ]
    },
    {
      "cell_type": "code",
      "execution_count": 7,
      "id": "32b54f8f-05b6-4c42-9403-2954c28c4fec",
      "metadata": {
        "id": "32b54f8f-05b6-4c42-9403-2954c28c4fec"
      },
      "outputs": [],
      "source": [
        "def fully_connected(flattened_vector, weights, biases):\n",
        "    return np.dot(weights, flattened_vector) + biases"
      ]
    },
    {
      "cell_type": "code",
      "execution_count": 8,
      "id": "24ac8068-de2d-41ea-bc03-2ea781e23db2",
      "metadata": {
        "id": "24ac8068-de2d-41ea-bc03-2ea781e23db2"
      },
      "outputs": [],
      "source": [
        "def softmax(logits):\n",
        "    exp_values = np.exp(logits - np.max(logits))\n",
        "    return exp_values / np.sum(exp_values)"
      ]
    },
    {
      "cell_type": "code",
      "execution_count": 9,
      "id": "c19d6a16-f767-48bc-b6cb-b9a33f90aab9",
      "metadata": {
        "id": "c19d6a16-f767-48bc-b6cb-b9a33f90aab9"
      },
      "outputs": [],
      "source": [
        "def cross_entropy_loss(y_true, y_pred):\n",
        "    return -np.sum(y_true * np.log(y_pred + 1e-9))"
      ]
    },
    {
      "cell_type": "code",
      "execution_count": 10,
      "id": "908a22ef-1201-450b-9961-db6a813f1a4d",
      "metadata": {
        "id": "908a22ef-1201-450b-9961-db6a813f1a4d"
      },
      "outputs": [],
      "source": [
        "def compute_gradients(flattened_output, y_true, logits, weights):\n",
        "    m = y_true.shape[0]\n",
        "    y_pred = softmax(logits)\n",
        "    dL_dz = y_pred - y_true\n",
        "    dL_dw = np.dot(dL_dz.reshape(-1, 1), flattened_output.reshape(1, -1)) / m\n",
        "    dL_db = dL_dz / m\n",
        "    dL_dflattened = np.dot(weights.T, dL_dz)\n",
        "    return dL_dw, dL_db, dL_dflattened"
      ]
    },
    {
      "cell_type": "code",
      "execution_count": 11,
      "id": "ee9bea73-a2ca-4d8f-95cf-c4919fbcaacc",
      "metadata": {
        "id": "ee9bea73-a2ca-4d8f-95cf-c4919fbcaacc"
      },
      "outputs": [],
      "source": [
        "def max_pooling_backward(dL_dpool, activated_map, pooling_size=2, stride=2):\n",
        "    dL_dmap = np.zeros_like(activated_map)\n",
        "    output_height, output_width = dL_dpool.shape\n",
        "    for i in range(output_height):\n",
        "        for j in range(output_width):\n",
        "            start_i = i * stride\n",
        "            start_j = j * stride\n",
        "            window = activated_map[start_i:start_i + pooling_size, start_j:start_j + pooling_size]\n",
        "            max_value = np.max(window)\n",
        "            for m in range(pooling_size):\n",
        "                for n in range(pooling_size):\n",
        "                    if window[m, n] == max_value:\n",
        "                        dL_dmap[start_i + m, start_j + n] = dL_dpool[i, j]\n",
        "                        break\n",
        "    return dL_dmap"
      ]
    },
    {
      "cell_type": "code",
      "execution_count": 12,
      "id": "036fb3f6-d1e4-4870-8c09-b5c63185b1af",
      "metadata": {
        "id": "036fb3f6-d1e4-4870-8c09-b5c63185b1af"
      },
      "outputs": [],
      "source": [
        "def conv_backward(dL_dconv, x, kernel, stride=1, padding=0):\n",
        "    kernel_rotated = np.rot90(kernel, 2)\n",
        "    h_x, w_x = x.shape\n",
        "    h_k, w_k = kernel.shape\n",
        "    h_out, w_out = dL_dconv.shape\n",
        "\n",
        "    # Pad x and dx\n",
        "    x_padded = np.pad(x, ((padding, padding), (padding, padding)), mode='constant', constant_values=0)\n",
        "    dx_padded = np.zeros_like(x_padded)\n",
        "    dfilter = np.zeros_like(kernel)\n",
        "\n",
        "    # Compute dfilter\n",
        "    for i in range(h_out):\n",
        "        for j in range(w_out):\n",
        "            start_i = i * stride\n",
        "            start_j = j * stride\n",
        "            x_window = x_padded[start_i:start_i + h_k, start_j:start_j + w_k]\n",
        "            dfilter += dL_dconv[i, j] * x_window\n",
        "\n",
        "    # Compute dx\n",
        "    for i in range(h_x + 2 * padding):\n",
        "        for j in range(w_x + 2 * padding):\n",
        "            for m in range(h_out):\n",
        "                for n in range(w_out):\n",
        "                    i_out = i - m * stride\n",
        "                    j_out = j - n * stride\n",
        "                    if 0 <= i_out < h_k and 0 <= j_out < w_k:\n",
        "                        dx_padded[i, j] += dL_dconv[m, n] * kernel_rotated[i_out, j_out]\n",
        "\n",
        "    if padding > 0:\n",
        "        dx = dx_padded[padding:-padding, padding:-padding]\n",
        "    else:\n",
        "        dx = dx_padded\n",
        "\n",
        "    return dx, dfilter"
      ]
    },
    {
      "cell_type": "markdown",
      "id": "8a0ce569-e679-40b2-af26-671558f663ee",
      "metadata": {
        "id": "8a0ce569-e679-40b2-af26-671558f663ee"
      },
      "source": [
        "## Training"
      ]
    },
    {
      "cell_type": "code",
      "execution_count": 13,
      "id": "5e52118e-c10e-4f8d-a29d-733a68ce8079",
      "metadata": {
        "colab": {
          "base_uri": "https://localhost:8080/"
        },
        "id": "5e52118e-c10e-4f8d-a29d-733a68ce8079",
        "outputId": "be35d58c-9782-4d77-c105-ca5318abd3a2"
      },
      "outputs": [
        {
          "metadata": {
            "tags": null
          },
          "name": "stdout",
          "output_type": "stream",
          "text": [
            "Downloading data from https://storage.googleapis.com/tensorflow/tf-keras-datasets/mnist.npz\n",
            "\u001b[1m11490434/11490434\u001b[0m \u001b[32m━━━━━━━━━━━━━━━━━━━━\u001b[0m\u001b[37m\u001b[0m \u001b[1m0s\u001b[0m 0us/step\n",
            "Epoch 1/2:\n"
          ]
        },
        {
          "metadata": {
            "tags": null
          },
          "name": "stderr",
          "output_type": "stream",
          "text": [
            "Training: 100%|██████████| 60000/60000 [2:17:26<00:00,  7.28it/s]\n"
          ]
        },
        {
          "metadata": {
            "tags": null
          },
          "name": "stdout",
          "output_type": "stream",
          "text": [
            "Average Loss: 0.4149, Accuracy: 0.8735\n",
            "Epoch 2/2:\n"
          ]
        },
        {
          "output_type": "stream",
          "name": "stderr",
          "text": [
            "Training: 100%|██████████| 60000/60000 [2:14:05<00:00,  7.46it/s]"
          ]
        },
        {
          "output_type": "stream",
          "name": "stdout",
          "text": [
            "Average Loss: 0.3125, Accuracy: 0.9085\n"
          ]
        },
        {
          "output_type": "stream",
          "name": "stderr",
          "text": [
            "\n"
          ]
        }
      ],
      "source": [
        "# Load and normalize data\n",
        "(x_train, y_train), (x_test, y_test) = mnist.load_data()\n",
        "x_train = x_train.astype(np.float32) / 255.0\n",
        "x_test = x_test.astype(np.float32) / 255.0\n",
        "\n",
        "# Convert labels to one-hot encoding\n",
        "num_classes = 10\n",
        "y_train_one_hot = np.zeros((y_train.size, num_classes))\n",
        "y_train_one_hot[np.arange(y_train.size), y_train] = 1\n",
        "\n",
        "# Initialize parameters\n",
        "np.random.seed(42)  # For reproducibility\n",
        "kernel = np.random.randn(3, 3) * 0.01\n",
        "epochs = 2\n",
        "learning_rate = 0.01\n",
        "\n",
        "# Fully connected layer weights and biases\n",
        "weights = np.random.randn(num_classes, 196) * 0.01\n",
        "biases = np.zeros(num_classes)\n",
        "\n",
        "# Training loop with full backward propagation\n",
        "for epoch in range(epochs):\n",
        "    total_loss = 0\n",
        "    correct_predictions = 0\n",
        "    print(f\"Epoch {epoch + 1}/{epochs}:\")\n",
        "    for i in tqdm(range(len(x_train)), desc=\"Training\"):\n",
        "        test_image = x_train[i]\n",
        "        if test_image.ndim == 3:\n",
        "            test_image = np.mean(test_image, axis=-1)\n",
        "        y_true = y_train_one_hot[i]\n",
        "        conv_output = convolution(test_image, kernel, stride=1, padding=1)\n",
        "        # Activation (ReLU)\n",
        "        relu_output = relu(conv_output)\n",
        "        # Max Pooling\n",
        "        pooled_output = pooling(relu_output, pooling_size=2, stride=2)\n",
        "        # Flatten\n",
        "        flattened_output = flatten(pooled_output)\n",
        "        # Fully Connected Layer\n",
        "        logits = fully_connected(flattened_output, weights, biases)\n",
        "        # Softmax\n",
        "        output_probabilities = softmax(logits)\n",
        "        # Loss\n",
        "        loss = cross_entropy_loss(y_true, output_probabilities)\n",
        "        total_loss += loss\n",
        "        # Prediction\n",
        "        predicted_label = np.argmax(output_probabilities)\n",
        "        true_label = np.argmax(y_true)\n",
        "        if predicted_label == true_label:\n",
        "            correct_predictions += 1\n",
        "        # Gradients for fully connected layer\n",
        "        dL_dw, dL_db, dL_dflattened = compute_gradients(flattened_output, y_true, logits, weights)\n",
        "        # Reshape gradient to match pooled output shape\n",
        "        dL_dpool = dL_dflattened.reshape(pooled_output.shape)\n",
        "        # Backpropagate through max pooling\n",
        "        dL_drelu = max_pooling_backward(dL_dpool, relu_output, pooling_size=2, stride=2)\n",
        "        # Backpropagate through ReLU directly\n",
        "        dL_dconv = dL_drelu.copy()\n",
        "        dL_dconv[conv_output <= 0] = 0\n",
        "        # Backpropagate through convolution\n",
        "        dx, dfilter = conv_backward(dL_dconv, test_image, kernel, stride=1, padding=1)\n",
        "        weights -= learning_rate * dL_dw\n",
        "        biases -= learning_rate * dL_db\n",
        "        kernel -= learning_rate * dfilter\n",
        "\n",
        "    average_loss = total_loss / len(x_train)\n",
        "    accuracy = correct_predictions / len(x_train)\n",
        "    print(f'Average Loss: {average_loss:.4f}, Accuracy: {accuracy:.4f}')\n"
      ]
    },
    {
      "cell_type": "markdown",
      "id": "179db50d-1db4-45a3-afab-ab93fd4e136f",
      "metadata": {
        "id": "179db50d-1db4-45a3-afab-ab93fd4e136f"
      },
      "source": [
        "## Testing"
      ]
    },
    {
      "cell_type": "code",
      "execution_count": 17,
      "id": "6c4e4974-0c89-4748-b54d-4a183838fe3e",
      "metadata": {
        "id": "6c4e4974-0c89-4748-b54d-4a183838fe3e",
        "colab": {
          "base_uri": "https://localhost:8080/",
          "height": 519
        },
        "outputId": "fdfc243f-e851-472b-89bf-4a70243ad3e0"
      },
      "outputs": [
        {
          "output_type": "stream",
          "name": "stdout",
          "text": [
            "Output probabilities: [6.02304814e-02 1.61433925e-10 9.37145076e-01 1.84385776e-05\n",
            " 1.72390508e-07 3.40384689e-05 3.23415347e-05 4.09386545e-08\n",
            " 2.52854752e-03 1.08625973e-05]\n",
            "Predicted class: 2\n"
          ]
        },
        {
          "output_type": "display_data",
          "data": {
            "text/plain": [
              "<Figure size 640x480 with 1 Axes>"
            ],
            "image/png": "[encoded data removed]"
          },
          "metadata": {}
        },
        {
          "output_type": "stream",
          "name": "stdout",
          "text": [
            "Test Accuracy: 0.9051\n"
          ]
        }
      ],
      "source": [
        "# Test the model\n",
        "test_image = x_test[400]\n",
        "if test_image.ndim == 3:\n",
        "    test_image = np.mean(test_image, axis=-1)\n",
        "\n",
        "# Forward pass for prediction\n",
        "conv_output = convolution(test_image, kernel, stride=1, padding=1)\n",
        "relu_output = relu(conv_output)\n",
        "pooled_output = pooling(relu_output, pooling_size=2, stride=2)\n",
        "flattened_output = flatten(pooled_output)\n",
        "\n",
        "# Perform CNN forward pass\n",
        "logits = fully_connected(flattened_output, weights, biases)\n",
        "output_probabilities = softmax(logits)\n",
        "\n",
        "# Print results\n",
        "predicted_class = np.argmax(output_probabilities)\n",
        "print(\"Output probabilities:\", output_probabilities)\n",
        "print(\"Predicted class:\", predicted_class)\n",
        "\n",
        "# Show the predicted image\n",
        "plt.imshow(test_image, cmap='gray')\n",
        "plt.title(f'Predicted Class: {predicted_class}')\n",
        "plt.axis('off')\n",
        "plt.show()\n",
        "\n",
        "# Accuracy calculation\n",
        "correct_predictions = 0\n",
        "for i in range(len(x_test)):\n",
        "    test_image = x_test[i]\n",
        "    if test_image.ndim == 3:\n",
        "        test_image = np.mean(test_image, axis=-1)\n",
        "\n",
        "    # Forward pass\n",
        "    conv_output = convolution(test_image, kernel, stride=1, padding=1)\n",
        "    relu_output = relu(conv_output)\n",
        "    pooled_output = pooling(relu_output, pooling_size=2, stride=2)\n",
        "    flattened_output = flatten(pooled_output)\n",
        "\n",
        "    # Perform CNN forward pass\n",
        "    logits = fully_connected(flattened_output, weights, biases)\n",
        "    output_probabilities = softmax(logits)\n",
        "\n",
        "    # Check if the prediction is correct\n",
        "    predicted_class = np.argmax(output_probabilities)\n",
        "    if predicted_class == y_test[i]:\n",
        "        correct_predictions += 1\n",
        "\n",
        "accuracy = correct_predictions / len(y_test)\n",
        "print(f\"Test Accuracy: {accuracy:.4f}\")"
      ]
    },
    {
      "cell_type": "code",
      "execution_count": null,
      "id": "8017aa31-1a7f-491d-b30d-a97eccbc850c",
      "metadata": {
        "id": "8017aa31-1a7f-491d-b30d-a97eccbc850c"
      },
      "outputs": [],
      "source": []
    }
  ],
  "metadata": {
    "colab": {
      "provenance": [],
      "gpuType": "T4"
    },
    "kernelspec": {
      "display_name": "Python 3",
      "name": "python3"
    },
    "language_info": {
      "codemirror_mode": {
        "name": "ipython",
        "version": 3
      },
      "file_extension": ".py",
      "mimetype": "text/x-python",
      "name": "python",
      "nbconvert_exporter": "python",
      "pygments_lexer": "ipython3",
      "version": "3.11.7"
    },
    "accelerator": "GPU"
  },
  "nbformat": 4,
  "nbformat_minor": 5
}